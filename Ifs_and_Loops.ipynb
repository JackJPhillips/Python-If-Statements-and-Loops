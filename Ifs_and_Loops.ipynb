{
  "nbformat": 4,
  "nbformat_minor": 0,
  "metadata": {
    "colab": {
      "provenance": [],
      "authorship_tag": "ABX9TyMdMwUZ3YqVd8e3E+S0bYkK"
    },
    "kernelspec": {
      "name": "python3",
      "display_name": "Python 3"
    },
    "language_info": {
      "name": "python"
    }
  },
  "cells": [
    {
      "cell_type": "markdown",
      "source": [
        "Logic tests that print boolean statements:"
      ],
      "metadata": {
        "id": "BJLhpKHf_TBX"
      }
    },
    {
      "cell_type": "code",
      "execution_count": null,
      "metadata": {
        "colab": {
          "base_uri": "https://localhost:8080/"
        },
        "id": "aHjLHoSwseV0",
        "outputId": "2f2c3c64-c572-48c2-8492-1dda468258fc"
      },
      "outputs": [
        {
          "output_type": "stream",
          "name": "stdout",
          "text": [
            "Please provide a number greater than 100 = 4\n",
            "False\n"
          ]
        }
      ],
      "source": [
        "n = int(input('Please provide a number greater than 100 = '))\n",
        "print(n >= 100)"
      ]
    },
    {
      "cell_type": "markdown",
      "source": [
        "# if-elif-else Statements:"
      ],
      "metadata": {
        "id": "4AwaW07f_fl4"
      }
    },
    {
      "cell_type": "code",
      "source": [
        "a = 200\n",
        "b = 33\n",
        "if b > a:\n",
        "  print(\"b is greater than a\")\n",
        "elif a == b:\n",
        "  print(\"a and b are equal\")\n",
        "else:\n",
        "  print(\"a is greater than b\")\n",
        "# Indented statements so that they are only performed if condition met."
      ],
      "metadata": {
        "colab": {
          "base_uri": "https://localhost:8080/"
        },
        "id": "tBE_4XiT_R75",
        "outputId": "52cd5151-e901-4ff9-f3fb-40a9e30d9473"
      },
      "execution_count": null,
      "outputs": [
        {
          "output_type": "stream",
          "name": "stdout",
          "text": [
            "a is greater than b\n"
          ]
        }
      ]
    },
    {
      "cell_type": "code",
      "metadata": {
        "colab": {
          "base_uri": "https://localhost:8080/"
        },
        "id": "4b562062",
        "outputId": "f7ba1bb2-84fa-4af6-e5f2-a62d2e0fc3a6"
      },
      "source": [
        "n = float(input('Enter a number: '))\n",
        "\n",
        "if n > 0:\n",
        "  print('The number is positive.')\n",
        "elif n < 0:\n",
        "  print('The number is negative.')\n",
        "else:\n",
        "  print('The number is zero.')"
      ],
      "execution_count": null,
      "outputs": [
        {
          "output_type": "stream",
          "name": "stdout",
          "text": [
            "Enter a number: 2.5\n",
            "The number is positive.\n"
          ]
        }
      ]
    },
    {
      "cell_type": "code",
      "metadata": {
        "colab": {
          "base_uri": "https://localhost:8080/"
        },
        "id": "17aeecc6",
        "outputId": "33cfcc62-97d8-48b0-b7ae-7fcfe16a5307"
      },
      "source": [
        "n = int(input('Enter an number: '))\n",
        "\n",
        "if n % 3 == 0:\n",
        "  print( n, 'is a multiple of 3.')\n",
        "else:\n",
        "  print( n, 'is not a multiple of 3.')"
      ],
      "execution_count": null,
      "outputs": [
        {
          "output_type": "stream",
          "name": "stdout",
          "text": [
            "Enter an number: 10\n",
            "10 is not a multiple of 3.\n"
          ]
        }
      ]
    },
    {
      "cell_type": "code",
      "source": [
        "n = int(input('Enter an number: '))\n",
        "\n",
        "if n % 3 == 0 and n % 5 == 0:\n",
        "  print( n, 'is a multiple of 3 and 5.')\n",
        "elif n % 3 == 0:\n",
        "  print( n, 'is only a multiple of 3.')\n",
        "elif n % 5 == 0:\n",
        "  print( n, 'is only a multiple of 5.')\n",
        "else:\n",
        "  print( n, 'is not a multiple of 3 or 5.')"
      ],
      "metadata": {
        "colab": {
          "base_uri": "https://localhost:8080/"
        },
        "id": "hIc6TcFCJnlI",
        "outputId": "119f47d0-6c2b-4ba2-b20e-01646d9e2fcb"
      },
      "execution_count": null,
      "outputs": [
        {
          "output_type": "stream",
          "name": "stdout",
          "text": [
            "Enter an number: 15\n",
            "15 is a multiple of 3 and 5.\n"
          ]
        }
      ]
    },
    {
      "cell_type": "code",
      "source": [
        "n = int(input('Enter an number: '))\n",
        "\n",
        "if n % 2 == 0:\n",
        "  print( n, 'is an even number.')\n",
        "else:\n",
        "  print( n, 'is an odd number.')"
      ],
      "metadata": {
        "colab": {
          "base_uri": "https://localhost:8080/"
        },
        "id": "XEWkUEilKJ7v",
        "outputId": "470337fe-9ab5-41d0-c28b-5f51a870fa11"
      },
      "execution_count": null,
      "outputs": [
        {
          "output_type": "stream",
          "name": "stdout",
          "text": [
            "Enter an number: 101\n",
            "101 is an odd number.\n"
          ]
        }
      ]
    },
    {
      "cell_type": "markdown",
      "source": [
        "# While Loops:"
      ],
      "metadata": {
        "id": "HxHrPdkSN95N"
      }
    },
    {
      "cell_type": "code",
      "source": [
        "number = 0\n",
        "while number < 5:\n",
        "  print(number)\n",
        "  if number == 6:\n",
        "    break\n",
        "  number = number + 1\n",
        "else:\n",
        "  print('number is not less than 5')"
      ],
      "metadata": {
        "colab": {
          "base_uri": "https://localhost:8080/"
        },
        "id": "9wXQedRUOBSk",
        "outputId": "dd71e53c-47d1-48a4-d685-ac84a323dbf5"
      },
      "execution_count": null,
      "outputs": [
        {
          "output_type": "stream",
          "name": "stdout",
          "text": [
            "0\n",
            "1\n",
            "2\n",
            "3\n",
            "4\n",
            "number is not less than 5\n"
          ]
        }
      ]
    },
    {
      "cell_type": "code",
      "source": [
        "number = 0\n",
        "while number < 5:\n",
        "  number = number + 1\n",
        "  if number == 3:\n",
        "    continue\n",
        "  print(number)\n",
        "else:\n",
        "  print('number is not less than 5')"
      ],
      "metadata": {
        "colab": {
          "base_uri": "https://localhost:8080/"
        },
        "id": "X1sRTvUQOxLz",
        "outputId": "03be8690-0c72-4361-c0d6-b112b60862d5"
      },
      "execution_count": null,
      "outputs": [
        {
          "output_type": "stream",
          "name": "stdout",
          "text": [
            "1\n",
            "2\n",
            "4\n",
            "5\n",
            "number is not less than 5\n"
          ]
        }
      ]
    },
    {
      "cell_type": "code",
      "source": [
        "password = 123\n",
        "attemps = 3\n",
        "while attemps >0:\n",
        "  user_entry = int(input(\"Please enter your password:\"))\n",
        "  if password == user_entry:\n",
        "    print(\"Login Succesful.\")\n",
        "    break\n",
        "  else:\n",
        "    print(\"Incorrect password. Try again\")\n",
        "    attemps = attemps-1\n",
        "    print(\"You have\", attemps, \"left.\")\n",
        "  if attemps == 0:\n",
        "    3print(\"Your account is locked. Please reset your password.\")\n"
      ],
      "metadata": {
        "colab": {
          "base_uri": "https://localhost:8080/"
        },
        "id": "vMPDV-55SUV9",
        "outputId": "7a2ae76b-e8c8-4822-ba21-3e5fefde899b"
      },
      "execution_count": null,
      "outputs": [
        {
          "output_type": "stream",
          "name": "stdout",
          "text": [
            "Please enter your password:34\n",
            "Incorrect password. Try again\n",
            "You have 2 left.\n",
            "Please enter your password:4\n",
            "Incorrect password. Try again\n",
            "You have 1 left.\n",
            "Please enter your password:123\n",
            "Login Succesful.\n"
          ]
        }
      ]
    },
    {
      "cell_type": "code",
      "source": [
        "secret_number = 8\n",
        "tries_left = 3\n",
        "while tries_left > 0:\n",
        "    guess = int(input(\"Guess the secret number (1-10): \"))\n",
        "    if guess == secret_number:\n",
        "        print(\"🎉 Correct! You win!\")\n",
        "        break\n",
        "    elif guess < secret_number:\n",
        "        print(\"Too low.\")\n",
        "    else:\n",
        "        print(\"Too high.\")\n",
        "    tries_left -= 1\n",
        "    print(f\"Tries left: {tries_left}\")\n",
        "if tries_left == 0:\n",
        "    print(\"😢 Game over. The correct number was\", secret_number)"
      ],
      "metadata": {
        "colab": {
          "base_uri": "https://localhost:8080/"
        },
        "id": "DJN6VSN9URY7",
        "outputId": "e0c6d36d-5e61-490f-f80a-917d87abf96a"
      },
      "execution_count": null,
      "outputs": [
        {
          "output_type": "stream",
          "name": "stdout",
          "text": [
            "Guess the secret number (1-10): 2\n",
            "Too low.\n",
            "Tries left: 2\n",
            "Guess the secret number (1-10): 9\n",
            "Too high.\n",
            "Tries left: 1\n",
            "Guess the secret number (1-10): 8\n",
            "🎉 Correct! You win!\n"
          ]
        }
      ]
    },
    {
      "cell_type": "code",
      "source": [
        "n = 0\n",
        "while n <10:\n",
        "  n += 1\n",
        "  if (n % 2) != 0:\n",
        "    print(n)\n",
        "  else:\n",
        "    continue"
      ],
      "metadata": {
        "colab": {
          "base_uri": "https://localhost:8080/"
        },
        "id": "L4rtDP6bUrfW",
        "outputId": "17f70c72-0e9c-40e2-bf2f-306b66fcc061"
      },
      "execution_count": null,
      "outputs": [
        {
          "output_type": "stream",
          "name": "stdout",
          "text": [
            "1\n",
            "3\n",
            "5\n",
            "7\n",
            "9\n"
          ]
        }
      ]
    },
    {
      "cell_type": "markdown",
      "source": [
        "# For Loop"
      ],
      "metadata": {
        "id": "fOolvV95kfS7"
      }
    },
    {
      "cell_type": "code",
      "source": [
        "fruits = [\"apple\", \"banana\", \"cherry\"]\n",
        "for x in fruits:\n",
        "  print(x, end = ', ')"
      ],
      "metadata": {
        "colab": {
          "base_uri": "https://localhost:8080/"
        },
        "id": "TCwXYDJUkjOf",
        "outputId": "79ae3325-77a9-4b4c-9138-095c0186893e"
      },
      "execution_count": null,
      "outputs": [
        {
          "output_type": "stream",
          "name": "stdout",
          "text": [
            "apple, banana, cherry, "
          ]
        }
      ]
    },
    {
      "cell_type": "code",
      "source": [
        "for i in range(6):\n",
        "  print(i)"
      ],
      "metadata": {
        "colab": {
          "base_uri": "https://localhost:8080/"
        },
        "id": "ID28m6W7m-kI",
        "outputId": "066dac0d-2f4a-4aa6-9f31-4b449b499b25"
      },
      "execution_count": null,
      "outputs": [
        {
          "output_type": "stream",
          "name": "stdout",
          "text": [
            "0\n",
            "1\n",
            "2\n",
            "3\n",
            "4\n",
            "5\n"
          ]
        }
      ]
    },
    {
      "cell_type": "code",
      "source": [
        "password = 123\n",
        "attemps = 3\n",
        "for i in range(attemps):\n",
        "  user_entry = int(input(\"Please enter your password:\"))\n",
        "  if password == user_entry:\n",
        "    print(\"Login Succesful.\")\n",
        "    break\n",
        "  else:\n",
        "    print(\"Incorrect password. Try again\")\n",
        "    attemps = attemps-1\n",
        "    print(\"You have\", attemps, \"left.\")\n",
        "if attemps == 0:\n",
        "  print(\"Your account is locked. Please reset your password.\")"
      ],
      "metadata": {
        "id": "X4flcrJ-owN3"
      },
      "execution_count": null,
      "outputs": []
    },
    {
      "cell_type": "code",
      "source": [
        "for i in range(2,101,2):\n",
        "  print(i, end= ' ')"
      ],
      "metadata": {
        "colab": {
          "base_uri": "https://localhost:8080/"
        },
        "collapsed": true,
        "id": "0pbKR9W7o1cK",
        "outputId": "8af35c1a-0c96-409e-f5c8-0b009a0c9bcb"
      },
      "execution_count": null,
      "outputs": [
        {
          "output_type": "stream",
          "name": "stdout",
          "text": [
            "2 4 6 8 10 12 14 16 18 20 22 24 26 28 30 32 34 36 38 40 42 44 46 48 50 52 54 56 58 60 62 64 66 68 70 72 74 76 78 80 82 84 86 88 90 92 94 96 98 100 "
          ]
        }
      ]
    },
    {
      "cell_type": "markdown",
      "source": [
        "# Lists and Indexes:"
      ],
      "metadata": {
        "id": "IJvZxrnfwHDw"
      }
    },
    {
      "cell_type": "code",
      "source": [
        "colours = [\"red\", \"green\", \"blue\", \"yellow\", \"white\", \"black\"]\n",
        "print(colours[0])\n",
        "# go to colours list and return element at index 0"
      ],
      "metadata": {
        "colab": {
          "base_uri": "https://localhost:8080/"
        },
        "id": "bizAg-zjwEym",
        "outputId": "a4fc4fc5-e980-44fe-ce5d-c5ebea0fee2e"
      },
      "execution_count": null,
      "outputs": [
        {
          "output_type": "stream",
          "name": "stdout",
          "text": [
            "red\n"
          ]
        }
      ]
    },
    {
      "cell_type": "code",
      "source": [
        "colours = [\"red\", \"green\", \"blue\", \"yellow\", \"white\", \"black\"]\n",
        "print(colours[1])"
      ],
      "metadata": {
        "colab": {
          "base_uri": "https://localhost:8080/"
        },
        "id": "ZKWFAu17wOQv",
        "outputId": "833fdfa8-a52c-4366-ff9b-f56476b1f331"
      },
      "execution_count": null,
      "outputs": [
        {
          "output_type": "stream",
          "name": "stdout",
          "text": [
            "green\n"
          ]
        }
      ]
    },
    {
      "cell_type": "markdown",
      "source": [
        "There is also negative indexing:"
      ],
      "metadata": {
        "id": "0E1PRGyswVjy"
      }
    },
    {
      "cell_type": "code",
      "source": [
        "colours = [\"red\", \"green\", \"blue\", \"yellow\", \"white\", \"black\"]\n",
        "print(colours[-1])"
      ],
      "metadata": {
        "colab": {
          "base_uri": "https://localhost:8080/"
        },
        "id": "G0830y-owXvd",
        "outputId": "b94fc23e-af83-4e3a-f00a-023d6d261130"
      },
      "execution_count": null,
      "outputs": [
        {
          "output_type": "stream",
          "name": "stdout",
          "text": [
            "black\n"
          ]
        }
      ]
    },
    {
      "cell_type": "markdown",
      "source": [
        "These lists can be edited:"
      ],
      "metadata": {
        "id": "fN8oec7Zx0nG"
      }
    },
    {
      "cell_type": "code",
      "source": [
        "thislist = [\"apple\", \"banana\", \"cherry\"]\n",
        "thislist[1]"
      ],
      "metadata": {
        "colab": {
          "base_uri": "https://localhost:8080/",
          "height": 35
        },
        "id": "jxOfvNAjx2vX",
        "outputId": "5196bd41-82b2-4b92-872b-99f48ec3f1f4"
      },
      "execution_count": null,
      "outputs": [
        {
          "output_type": "execute_result",
          "data": {
            "text/plain": [
              "'banana'"
            ],
            "application/vnd.google.colaboratory.intrinsic+json": {
              "type": "string"
            }
          },
          "metadata": {},
          "execution_count": 66
        }
      ]
    },
    {
      "cell_type": "code",
      "source": [
        "thislist[1] = \"blackcurrant\"\n",
        "print(thislist)"
      ],
      "metadata": {
        "colab": {
          "base_uri": "https://localhost:8080/"
        },
        "id": "-FWirWhbx3_s",
        "outputId": "75ffb3a6-c94b-42b6-c902-145e0cc59953"
      },
      "execution_count": null,
      "outputs": [
        {
          "output_type": "stream",
          "name": "stdout",
          "text": [
            "['apple', 'blackcurrant', 'cherry', 'orange']\n"
          ]
        }
      ]
    },
    {
      "cell_type": "markdown",
      "source": [
        "and added to:"
      ],
      "metadata": {
        "id": "NOjLapmUyTP5"
      }
    },
    {
      "cell_type": "code",
      "source": [
        "print(thislist)\n",
        "thislist.append(\"orange\")\n",
        "print(thislist)"
      ],
      "metadata": {
        "colab": {
          "base_uri": "https://localhost:8080/"
        },
        "id": "mZmuuoPxyUpA",
        "outputId": "1e70c0e4-cd04-463a-ef5b-58722f320d8e"
      },
      "execution_count": null,
      "outputs": [
        {
          "output_type": "stream",
          "name": "stdout",
          "text": [
            "['apple', 'blackcurrant', 'cherry', 'orange']\n",
            "['apple', 'blackcurrant', 'cherry', 'orange', 'orange']\n"
          ]
        }
      ]
    },
    {
      "cell_type": "markdown",
      "source": [
        "You can also choose the specific location to insert value:"
      ],
      "metadata": {
        "id": "aGm2pqtOyjF7"
      }
    },
    {
      "cell_type": "code",
      "source": [
        "thislist.insert(2, \"watermelon\")\n",
        "print(thislist)"
      ],
      "metadata": {
        "colab": {
          "base_uri": "https://localhost:8080/"
        },
        "id": "TYTq3P7MynS5",
        "outputId": "671b3855-8d64-4d08-b02c-7bb5da110cb1"
      },
      "execution_count": null,
      "outputs": [
        {
          "output_type": "stream",
          "name": "stdout",
          "text": [
            "['apple', 'blackcurrant', 'watermelon', 'cherry', 'orange', 'orange']\n"
          ]
        }
      ]
    },
    {
      "cell_type": "markdown",
      "source": [
        "And remove items:"
      ],
      "metadata": {
        "id": "gx71fQWTz4SL"
      }
    },
    {
      "cell_type": "code",
      "source": [
        "thislist.pop(3)\n",
        "print(thislist)"
      ],
      "metadata": {
        "colab": {
          "base_uri": "https://localhost:8080/"
        },
        "id": "oKZ2qBgHz5y2",
        "outputId": "db5589c7-fe53-4ccf-fdf6-de875598e8cb"
      },
      "execution_count": null,
      "outputs": [
        {
          "output_type": "stream",
          "name": "stdout",
          "text": [
            "['apple', 'blackcurrant', 'watermelon', 'orange', 'orange']\n"
          ]
        }
      ]
    },
    {
      "cell_type": "markdown",
      "source": [
        "Dictionary"
      ],
      "metadata": {
        "id": "gyIP2r0j3lNQ"
      }
    },
    {
      "cell_type": "code",
      "source": [
        "mydict = { \"brand\": \"Ford\",\n",
        "          \"model\" : \"Mustang\",\n",
        "           \"year\" : 1964\n",
        "    }"
      ],
      "metadata": {
        "id": "J6mbcX9t3kOg"
      },
      "execution_count": null,
      "outputs": []
    },
    {
      "cell_type": "code",
      "source": [
        "print(mydict)"
      ],
      "metadata": {
        "id": "C8X3fxaW3oty",
        "outputId": "e112fe8c-df49-4b4a-984d-ec1c200d9d92",
        "colab": {
          "base_uri": "https://localhost:8080/"
        }
      },
      "execution_count": null,
      "outputs": [
        {
          "output_type": "stream",
          "name": "stdout",
          "text": [
            "{'brand': 'Ford', 'model': 'Mustang', 'year': 1964}\n"
          ]
        }
      ]
    }
  ]
}