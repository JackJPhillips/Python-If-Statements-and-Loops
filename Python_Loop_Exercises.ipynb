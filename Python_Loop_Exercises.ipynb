{
  "nbformat": 4,
  "nbformat_minor": 0,
  "metadata": {
    "colab": {
      "provenance": []
    },
    "kernelspec": {
      "name": "python3",
      "display_name": "Python 3"
    },
    "language_info": {
      "name": "python"
    }
  },
  "cells": [
    {
      "cell_type": "markdown",
      "source": [
        "By the end of these exercises, you will be able to:\n",
        "\n",
        "✅ Use conditional statements (if, elif, else) to control the flow of a program.\n",
        "\n",
        "✅ Apply the modulus operator (%) to check number properties like divisibility and parity.\n",
        "\n",
        "✅ Implement input validation and string comparisons to build basic user authentication logic.\n",
        "\n",
        "✅ Use a while loop to repeat tasks based on conditions such as success criteria or attempt limits.\n",
        "\n",
        "✅ Combine loops and decision-making logic to build interactive programs like simple menus.\n",
        "\n",
        "✅ Practice using a for loop with the range() function to iterate over numbers efficiently."
      ],
      "metadata": {
        "id": "1CyqxVu9C-PV"
      }
    },
    {
      "cell_type": "markdown",
      "source": [
        "### 1 ) 🔐 Scenario-Based Exercise: Security Door Access\n",
        "Scenario:\n",
        "You are a security engineer at a high-tech facility. To enter the building, employees must type in a secret code on a keypad. The code for today is \"123\". You need to write a program that checks if the person has entered the correct code.\n",
        "\n",
        "🧠 Mission Brief:\n",
        "Your task is to write a program that:\n",
        "\n",
        "Asks the person to enter the access code.\n",
        "\n",
        "If the code is \"123\", the system should print:\n",
        "\"🔓 Access granted. Welcome inside!\"\n",
        "\n",
        "If the code is incorrect, the system should print:\n",
        "\"⛔ Access denied. Incorrect code.\"\n",
        "\n"
      ],
      "metadata": {
        "id": "jNDdFa948_PH"
      }
    },
    {
      "cell_type": "code",
      "source": [
        "c = 123\n",
        "i = int(input('Please enter the code = '))\n",
        "if i == c:\n",
        "    print('🔓 Access granted. Welcome inside!')\n",
        "else:\n",
        "    print('⛔ Access denied. Incorrect code.')"
      ],
      "metadata": {
        "id": "snAV3Wll9HYM",
        "colab": {
          "base_uri": "https://localhost:8080/"
        },
        "outputId": "d70813c4-990f-452b-a967-ab9e98d1a638"
      },
      "execution_count": null,
      "outputs": [
        {
          "output_type": "stream",
          "name": "stdout",
          "text": [
            "Please enter the code = 123\n",
            "🔓 Access granted. Welcome inside!\n"
          ]
        }
      ]
    },
    {
      "cell_type": "markdown",
      "source": [
        "### 2) You’re building a simple number-checking tool for a maths learning app. The app should tell users whether their chosen number is divisible by 3 and 7.\n",
        "\n",
        "🧪 Task:\n",
        "Write a Python program that:\n",
        "\n",
        "Asks the user to enter a number.\n",
        "\n",
        "Checks whether the number is divisible by both 3 and 7.\n",
        "\n",
        "Displays a clear message with the result."
      ],
      "metadata": {
        "id": "NvdrqSUw3EnE"
      }
    },
    {
      "cell_type": "code",
      "source": [
        "x = int(input('Please enter a number = '))\n",
        "if x % 3 == 0 and x % 7 == 0:\n",
        "    print(f'{x} is divisible by both 3 and 7')\n",
        "else:\n",
        "    print(f'{x} is not divisible by both 3 and 7')"
      ],
      "metadata": {
        "id": "ghaGg9if3Mvh",
        "colab": {
          "base_uri": "https://localhost:8080/"
        },
        "outputId": "adf22335-8e6b-44fb-a814-5d9645eff0ce"
      },
      "execution_count": null,
      "outputs": [
        {
          "output_type": "stream",
          "name": "stdout",
          "text": [
            "Please enter a number = 21\n",
            "21 is divisible by both 3 and 7\n"
          ]
        }
      ]
    },
    {
      "cell_type": "markdown",
      "source": [
        "### 3) You're developing a simple calculator tool for a local community learning website. Users should be able to choose what operation they want to perform and continue using the calculator until they decide to exit.\n",
        "\n",
        "🧪 Task:\n",
        "Write a Python program that:\n",
        "\n",
        "Displays a menu with the following options:\n",
        "\n",
        "* 1- Addition\n",
        "\n",
        "* 2- Subtraction\n",
        "\n",
        "* 3- Multiplication\n",
        "\n",
        "* 4-Division\n",
        "\n",
        "* 5- Exit\n",
        "\n",
        "Asks the user to choose an operation\n",
        "\n",
        "Asks for two numbers, then performs the chosen operation\n",
        "\n",
        "Repeats the menu until the user selects Exit"
      ],
      "metadata": {
        "id": "Xc1ZWUAX3NbV"
      }
    },
    {
      "cell_type": "code",
      "source": [
        "print(\"Please select an operation:\\n 1- Addition\\n 2- Subtraction\\n 3- Multiplication\\n 4- Division\\n 5- Exit\")\n",
        "x = int(input())\n",
        "a = int(input('Please enter a number = '))\n",
        "b = int(input('Please enter a number = '))\n",
        "if x == 1:\n",
        "    print(a + b)\n",
        "\n",
        "elif x == 2:\n",
        "    print(a - b)\n",
        "\n",
        "elif x == 3:\n",
        "    print(a * b)\n",
        "\n",
        "elif x == 4:\n",
        "    print(a / b)\n",
        "\n",
        "elif x == 5:\n",
        "    print('Cancelled')\n",
        "\n",
        "else:\n",
        "    print('Invalid input')"
      ],
      "metadata": {
        "id": "b0Lucv-H3gHI",
        "colab": {
          "base_uri": "https://localhost:8080/"
        },
        "outputId": "f3a58e10-adc5-4a1f-8219-fc856c659934"
      },
      "execution_count": null,
      "outputs": [
        {
          "output_type": "stream",
          "name": "stdout",
          "text": [
            "Please select an operation:\n",
            " 1- Addition\n",
            " 2- Subtraction\n",
            " 3- Multiplication\n",
            " 4- Division\n",
            " 5- Exit\n",
            "2\n",
            "Please enter a number = 600\n",
            "Please enter a number = 200\n",
            "400\n"
          ]
        }
      ]
    },
    {
      "cell_type": "markdown",
      "source": [
        "### 4) You’re building a fitness tracker app. The app should calculate the total number of steps someone would take if they increase their steps by 1 each day — starting from 1 up to a number they choose.\n",
        "\n",
        "🧪 Task:\n",
        "Write a Python program that:\n",
        "\n",
        "Asks the user to enter a positive number\n",
        "\n",
        "Calculates the sum of all numbers from 1 to that number\n",
        "\n",
        "Displays the total\n",
        "<p> If the user enters 10, the output should be:\n",
        "\n",
        "\"The sum of numbers from 1 to 10 is 55\""
      ],
      "metadata": {
        "id": "WYecctQo3gcl"
      }
    },
    {
      "cell_type": "code",
      "source": [
        "x = int(input('Please enter a goal = '))\n",
        "sum = 0\n",
        "for i in range(1, x + 1):\n",
        "    sum += i\n",
        "print(f'The sum of numbers from 1 to {x} is {sum}')"
      ],
      "metadata": {
        "id": "BnMVDLYk30S0",
        "colab": {
          "base_uri": "https://localhost:8080/"
        },
        "outputId": "304bd901-ae34-4c9c-e2a0-70e25d16a2f9"
      },
      "execution_count": null,
      "outputs": [
        {
          "output_type": "stream",
          "name": "stdout",
          "text": [
            "Please enter a goal = 10\n",
            "The sum of numbers from 1 to 10 is 55\n"
          ]
        }
      ]
    },
    {
      "cell_type": "markdown",
      "source": [
        "### 5) You’ve been asked to help design a feature for a Math Quiz App. One challenge asks the user to enter a number — and your program will check whether it’s a prime number (a number that has only two factors: 1 and itself).\n",
        "\n",
        "🧪 Task:\n",
        "Write a Python program that:\n",
        "\n",
        "Asks the user to enter a positive integer\n",
        "\n",
        "Checks whether the number is a prime number\n",
        "\n",
        "Displays a message telling the user whether the number is prime or not\n",
        "\n"
      ],
      "metadata": {
        "id": "mIno3sX3302r"
      }
    },
    {
      "cell_type": "code",
      "source": [
        "x = int(input('Please enter a positive number = '))\n",
        "for i in range(2, x):\n",
        "    if x % i == 0:\n",
        "        print(str(x) + ' is not a prime number')\n",
        "        break\n",
        "else:\n",
        "    print(str(x) + ' is a prime number')"
      ],
      "metadata": {
        "id": "lS4Rmw4z39V4",
        "colab": {
          "base_uri": "https://localhost:8080/"
        },
        "outputId": "17a545ce-7f55-4972-e1ba-46981e01295e"
      },
      "execution_count": null,
      "outputs": [
        {
          "output_type": "stream",
          "name": "stdout",
          "text": [
            "Please enter a positive number = 11\n",
            "11 is a prime number\n"
          ]
        }
      ]
    },
    {
      "cell_type": "markdown",
      "source": [
        "### 6) You’re building a tool for a puzzle game where certain levels require calculating the factorial of a number to unlock a clue. A factorial of a number is the product of all positive integers from 1 up to that number.\n",
        "\n",
        "For example:\n",
        "5! = 5 × 4 × 3 × 2 × 1 = 120\n",
        "\n",
        "🧪 Task:\n",
        "Write a Python program that:\n",
        "\n",
        "Asks the user to enter a non-negative integer\n",
        "\n",
        "Calculates the factorial of that number\n",
        "\n",
        "Displays the result\n",
        "\n"
      ],
      "metadata": {
        "id": "r8Jg57iD391Y"
      }
    },
    {
      "cell_type": "code",
      "source": [
        "x = int(input('Please enter a positive integer: '))\n",
        "f = 1\n",
        "for i in range(1, x + 1):\n",
        "    f = f * i\n",
        "print('The factorial of ' + str(x) + ' is ' + str(f))"
      ],
      "metadata": {
        "id": "MU2cdtub4HW1",
        "colab": {
          "base_uri": "https://localhost:8080/"
        },
        "outputId": "54101ba3-12e0-4f58-8bbf-3cd97dabb287"
      },
      "execution_count": null,
      "outputs": [
        {
          "output_type": "stream",
          "name": "stdout",
          "text": [
            "Please enter a positive integer: 5\n",
            "The factorial of 5 is 120\n"
          ]
        }
      ]
    },
    {
      "cell_type": "markdown",
      "source": [
        "### 7) You're helping design a study tool for kids that displays fun number patterns. One such pattern looks like a staircase, where each line adds one more number.\n",
        "\n",
        "🧪 Task:\n",
        "Write a Python program using nested for loops to display the following pattern:\n",
        "<p> Hint: Use nested for loops\n",
        "\n",
        "![067afe1d-8482-4696-88c8-46587332ea96 (1).png](data:image/png;base64,iVBORw0KGgoAAAANSUhEUgAAAQQAAACrCAYAAACANeKFAAAABGdBTUEAALGPC/xhBQAAAAlwSFlzAAAScwAAEnMBjCK5BwAABONJREFUeF7t3UFuGzcYhuEeq0A3OVMWyT0MJKdIgJzAPkPgtc6iWp6ZT7IwalqJv6s/8yyeTezQszBfU5RA/rHb7fZ//vUBYC8IQAgCEIIAhCAAIQhACAIQggCEIAAhCEAIAhCCAIQgACEIQAgCEIIAhCAAIQhACAIQggCEIAAhCEAUB+Hr/vFl/MPPeP72eeXrwD0pCsLn/fefhxA87R++PAkCNFEShIfHkwAIArRRv4cgCNCGIAAhCEAIAhCCAIQgACEIQAgCEDVBmCNwyeOXlf8D/O/qVwhAG4IAhCAAIQhACAIQggCEIAAhCEAIAhCCAIQgACEIQAgCEIIAhCAAIQhACAIQggBEcRBG3/68XCJ74vHryvcB1ygKQsXtz9OYb8ZZzm4UBRiiJAjvefvz4Wftds/775/Wvw78e/V7CMVB+PjtWRBgkPZBsEKAcXoH4dOP/fPL2LufP/Yf174O/CeNg3B8B8PFLzBG0yAc336seikCW9QwCGIAVdoFYdpEfOGzBzBcqyCIAdSqCcIcgUuu2gRc3lG4xDsNcLP6FQLQhiAAIQhACAIQggCEIAAhCEAIAhCCAIQgACEIQAgCEIIAhCAAIQhACAIQggBEcRAaXPa6errT0/5h7XvhN1cUhM6XvZ48++rX4fdVEoT2l73Oz+wCGLamfg+hOAgll72+PrP7Itme9kEYv0KY9z0c9c4G9Q7CqMtez494d6Q7G9U4CHWXvS4XwthDYGuaBqH6fsd5fCsFNqZhEKpjMHldJQgCG9MuCMtyvnbTz8Yi29QqCO8TAx9MYrtqgjBH4JJ7uuw1kTlR+VIE7ln9CgFoQxCAEAQgBAEIQQBCEIAQBCAEAQhBAEIQgBAEIAQBCEEAQhCAEAQgBAEIQQCiOAgue3118jMc7c49KwrCybmEw85UnMZ8M84y0YaesTj6TMVjFAWBe1cShMM5hZm4w4KwbjoT8X4ve52e7xhGQeCe1e8hFAfhri97PY2AINBA+yCMXyGMupPhbBxBoIHeQbjjy17zUmH5N0GggcZBOG7WjZ5k02S+Ydy1yS8INNA0CMe3H2teiszjX7VSmP/v+UsOQaCBhkGojsHkdZVwTRB+dcPUTBi4R+2CsCznx3724NyojcUTVgg00CoI7xOD0R9MmgkCDdQEYf7lv+SqSdH9sldBoIH6FQLQhiAAIQhACAIQggCEIAAhCEAIAhCCAIQgACEIQAgCEIIAhCAAIQhACAIQggBEcRCOR6WPOYXoeMBq3Hqc2urpTjXHpx3cdGLSP5wa5SQmRigKwsm5hPNkuD0I05hvxlkm2tAzFkefqXiM4s0Tdw6CyU+VkiAczinMxB0WhHXTmYgbuexVEChWv4dQHIRNXfYqCBRrH4TxK4RRdzKcjSMINNA7CMsm21Yuez1/zleDV0dsWuMgHDfrRv/FnCbzDeOuTf4RQVixPGvVCoxtaRqE49uPNRNhHr/FZa+j3xVhyxoGoToGk9e/vC0uexUExmkXhGWJPPazB+dGbSyeKFshFDwrm9UqCO8Tg6K/uCVBWPZRrA4YoyYI8y//JVdNil8txTdw2ev0mYt3eFY2q36FALQhCEAIAhCCAIQgACEIQAgCEIIAhCAAIQhACAIQggCEIAAhCEAIAhCCAIQgACEIQAgCEIIAzD7s/wadbN4YO0i3hgAAAABJRU5ErkJggg==)"
      ],
      "metadata": {
        "id": "C_9ZSoCw4Hwi"
      }
    },
    {
      "cell_type": "code",
      "metadata": {
        "colab": {
          "base_uri": "https://localhost:8080/"
        },
        "id": "86dfa771",
        "outputId": "3f6399de-c37b-4e2a-cedf-696db8e0dfa4"
      },
      "source": [
        "for x in range(1, 6):\n",
        "    for y in range(1, x + 1):\n",
        "        print(y, end=\" \")\n",
        "    print()"
      ],
      "execution_count": null,
      "outputs": [
        {
          "output_type": "stream",
          "name": "stdout",
          "text": [
            "1 \n",
            "1 2 \n",
            "1 2 3 \n",
            "1 2 3 4 \n",
            "1 2 3 4 5 \n"
          ]
        }
      ]
    }
  ]
}